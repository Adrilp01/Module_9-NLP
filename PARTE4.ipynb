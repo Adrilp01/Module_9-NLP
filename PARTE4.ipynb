{
 "cells": [
  {
   "cell_type": "markdown",
   "id": "5e55699d",
   "metadata": {},
   "source": [
    "=== Evaluación de Test LR ===\n",
    "Confussion matrix:\n",
    "[[106392   2296]\n",
    " [  7854   5808]]\n",
    "\n",
    "Classification report:\n",
    "              precision    recall  f1-score   support\n",
    "\n",
    "           0       0.93      0.98      0.95    108688\n",
    "           1       0.72      0.43      0.53     13662\n",
    "\n",
    "    accuracy                           0.92    122350\n",
    "   macro avg       0.82      0.70      0.74    122350\n",
    "weighted avg       0.91      0.92      0.91    122350\n",
    "\n",
    "Accuracy score:0.9170412750306498"
   ]
  },
  {
   "cell_type": "markdown",
   "id": "33ea883f",
   "metadata": {},
   "source": [
    "Pongo directamente los resultados para no poner todo el código del notebook 3 otra vez."
   ]
  },
  {
   "cell_type": "markdown",
   "id": "fb5e47d1",
   "metadata": {},
   "source": [
    "Estas son las métricas calculadas a partir del modelo de Logistic Regression. Como podemos ver el modelo se comporta mucho mejor en el trato de las reviews positivas.\n",
    "El 93% de las veces que el modelo dijo que una review era positiva, acertó, sin embargo cuando dijo que era negativa solo acertó en el 72% de las ocasiones.\n",
    "De todas las reseñas positivas que había, el modelo pudo dectectar el 98%, sin embargo, solo pudo detectar el 43% de las negativas.\n",
    "Prueba de todo esto lo vemos en el f1-score que muestra el balance entre la precisión y el recall, y donde podemos ver que el modelo da unos mejores resultados 95% en las reviews positivas, que en las negativas 53%.\n",
    "\n",
    "Como podemos ver en la matriz de confussion, en el caso de las positivas reales (primera fila) hay 106392 positivas que el modelo también ha catalogado como positivas, sin embargo hay 2296 positivas que el modelo marcó negativas. Siendo en este caso el balance muy bueno, con muchos más aciertos que errores. En el caso de las negativas la situación es muy diferente, encontrando que hay 5808 negativas clasificadas correctamente, frente a 7854 negativas clasificadas erroneamente como positivas."
   ]
  }
 ],
 "metadata": {
  "kernelspec": {
   "display_name": "Python 3",
   "language": "python",
   "name": "python3"
  },
  "language_info": {
   "codemirror_mode": {
    "name": "ipython",
    "version": 3
   },
   "file_extension": ".py",
   "mimetype": "text/x-python",
   "name": "python",
   "nbconvert_exporter": "python",
   "pygments_lexer": "ipython3",
   "version": "3.11.9"
  }
 },
 "nbformat": 4,
 "nbformat_minor": 5
}

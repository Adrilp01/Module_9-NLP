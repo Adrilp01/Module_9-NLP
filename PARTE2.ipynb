{
 "cells": [
  {
   "cell_type": "code",
   "execution_count": 18,
   "id": "46c89720",
   "metadata": {},
   "outputs": [],
   "source": [
    "import json\n",
    "import re\n",
    "import unicodedata\n",
    "import pandas as pd\n",
    "import numpy as np\n",
    "import nltk\n",
    "from nltk.stem import PorterStemmer\n",
    "from nltk.corpus import stopwords\n",
    "from stop_words import get_stop_words"
   ]
  },
  {
   "cell_type": "code",
   "execution_count": 3,
   "id": "ae266434",
   "metadata": {},
   "outputs": [],
   "source": [
    "#CARGA DE DATOS\n",
    "data_dict = {}\n",
    "with open('C:/Users/adril/Downloads/PracticaNLP/Video_Games_5.json', \"r\", encoding=\"utf-8\") as f:\n",
    "    for idx, line in enumerate(f):\n",
    "        data_dict[idx] = json.loads(line)"
   ]
  },
  {
   "cell_type": "code",
   "execution_count": 6,
   "id": "9a12d3d4",
   "metadata": {},
   "outputs": [],
   "source": [
    "#CREACIÓN DATAFRAME CON REVIEWS Y SENTIMIENTOS\n",
    "reviews_text = []\n",
    "reviews_sentiment = []\n",
    "\n",
    "for review in data_dict.values():\n",
    "    reviews_text.append(review.get('reviewText'))\n",
    "    reviews_sentiment.append(review.get('overall'))\n",
    "\n",
    "df_reviews = pd.DataFrame({\n",
    "    'review': reviews_text,\n",
    "    'sentiment': reviews_sentiment\n",
    "})\n",
    "df_reviews.dropna(subset=['review', 'sentiment'], inplace=True)\n",
    "df_reviews.reset_index(drop=True, inplace=True)"
   ]
  },
  {
   "cell_type": "code",
   "execution_count": 12,
   "id": "868f9507",
   "metadata": {},
   "outputs": [],
   "source": [
    "# FUNCIÓN NORMALIZACIÓN\n",
    "def sentence_normalization(sentence):\n",
    "    sentence = unicodedata.normalize('NFKD', sentence).lower().encode('ascii', errors='ignore').decode('utf-8')\n",
    "    sentence = re.sub(' +', ' ', ' '.join([word if word.isalpha() else '' for word in sentence.split()])).strip()\n",
    "    return sentence\n",
    "\n",
    "# FUNCIÓN STOPWORDS\n",
    "def remove_stopwords(sentence, sw_list):\n",
    "    sentence = ' '.join([word for word in sentence.split() if word not in sw_list])\n",
    "    return sentence\n",
    "\n",
    "# FUNCIÓN STEMMING\n",
    "stemmer = PorterStemmer()\n",
    "def apply_stemming(sentence): \n",
    "    return ' '.join([stemmer.stem(word) for word in sentence.split()])\n",
    "\n",
    "sw_list = get_stop_words('en')\n",
    "\n",
    "# FUNCIÓN FINAL DONDE SE APLICAN LOS ANTERIORES\n",
    "def process_reviews(reviews, sw_list):\n",
    "    processed_sentences = []\n",
    "    for sent in reviews:\n",
    "        if not sent != sent:\n",
    "            sent = sentence_normalization(sent)\n",
    "            sent = remove_stopwords(sent, sw_list)\n",
    "            sent = apply_stemming(sent)\n",
    "            processed_sentences.append(sent)\n",
    "        else:\n",
    "            processed_sentences.append('None')\n",
    "    return processed_sentences"
   ]
  },
  {
   "cell_type": "code",
   "execution_count": 19,
   "id": "68c1ae87",
   "metadata": {},
   "outputs": [],
   "source": [
    "processed_reviews = process_reviews(df_reviews['review'], sw_list) # APLICACIÓN DE LA FUNCIÓN FINAL A MI COLUMNA DE REVIEWS\n",
    "df_reviews['processedReview'] = processed_reviews # CREO NUEVA COLUMNA\n",
    "df_reviews['processedReview'] = df_reviews['processedReview'].replace('', np.nan) # REEMPLAZO VACÍO POR NAN\n",
    "df_reviews = df_reviews.dropna(subset=['processedReview']) # ELIMINO FILAS NAN"
   ]
  }
 ],
 "metadata": {
  "kernelspec": {
   "display_name": "Python 3",
   "language": "python",
   "name": "python3"
  },
  "language_info": {
   "codemirror_mode": {
    "name": "ipython",
    "version": 3
   },
   "file_extension": ".py",
   "mimetype": "text/x-python",
   "name": "python",
   "nbconvert_exporter": "python",
   "pygments_lexer": "ipython3",
   "version": "3.11.9"
  }
 },
 "nbformat": 4,
 "nbformat_minor": 5
}
